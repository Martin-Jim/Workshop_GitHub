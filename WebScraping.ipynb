{
  "nbformat": 4,
  "nbformat_minor": 0,
  "metadata": {
    "colab": {
      "provenance": []
    },
    "kernelspec": {
      "name": "python3",
      "display_name": "Python 3"
    },
    "language_info": {
      "name": "python"
    }
  },
  "cells": [
    {
      "cell_type": "markdown",
      "source": [
        "#*Instalación librerías*"
      ],
      "metadata": {
        "id": "5uhS_63x00Pm"
      }
    },
    {
      "cell_type": "code",
      "execution_count": null,
      "metadata": {
        "colab": {
          "base_uri": "https://localhost:8080/"
        },
        "id": "FkyASvtXzRtg",
        "outputId": "50eaa167-3bad-4b7a-9fff-c4a899a3ab81"
      },
      "outputs": [
        {
          "output_type": "stream",
          "name": "stdout",
          "text": [
            "Looking in indexes: https://pypi.org/simple, https://us-python.pkg.dev/colab-wheels/public/simple/\n",
            "Requirement already satisfied: BeautifulSoup4 in /usr/local/lib/python3.7/dist-packages (4.6.3)\n",
            "Looking in indexes: https://pypi.org/simple, https://us-python.pkg.dev/colab-wheels/public/simple/\n",
            "Requirement already satisfied: requests in /usr/local/lib/python3.7/dist-packages (2.23.0)\n",
            "Requirement already satisfied: urllib3!=1.25.0,!=1.25.1,<1.26,>=1.21.1 in /usr/local/lib/python3.7/dist-packages (from requests) (1.24.3)\n",
            "Requirement already satisfied: idna<3,>=2.5 in /usr/local/lib/python3.7/dist-packages (from requests) (2.10)\n",
            "Requirement already satisfied: chardet<4,>=3.0.2 in /usr/local/lib/python3.7/dist-packages (from requests) (3.0.4)\n",
            "Requirement already satisfied: certifi>=2017.4.17 in /usr/local/lib/python3.7/dist-packages (from requests) (2022.9.24)\n"
          ]
        }
      ],
      "source": [
        "! pip install BeautifulSoup4\n",
        "! pip install requests"
      ]
    },
    {
      "cell_type": "markdown",
      "source": [
        "#*Carga de Librerías*"
      ],
      "metadata": {
        "id": "I_LtuRLD1SLY"
      }
    },
    {
      "cell_type": "code",
      "source": [
        "import requests\n",
        "from bs4 import BeautifulSoup\n",
        "import csv\n",
        "from datetime import datetime"
      ],
      "metadata": {
        "id": "AqT_46UA0zYU"
      },
      "execution_count": null,
      "outputs": []
    },
    {
      "cell_type": "markdown",
      "source": [
        "#*Scraping*"
      ],
      "metadata": {
        "id": "R-iYyXac1dAj"
      }
    },
    {
      "cell_type": "markdown",
      "source": [
        "***Extracción de texto***"
      ],
      "metadata": {
        "id": "9mtuFy191uob"
      }
    },
    {
      "cell_type": "code",
      "source": [
        "# indicar la ruta\n",
        "url_page = 'http://www.bolsamadrid.es/esp/aspx/Indices/Resumen.aspx'\n",
        "# tarda 480 milisegundos\n",
        "page = requests.get(url_page).text \n",
        "soup = BeautifulSoup(page, \"lxml\")\n",
        "# Obtenemos la tabla por un ID específico\n",
        "tabla = soup.find('table', attrs={'id': 'ctl00_Contenido_tblÍndices'})"
      ],
      "metadata": {
        "id": "b92yAQY51a9Q"
      },
      "execution_count": null,
      "outputs": []
    },
    {
      "cell_type": "markdown",
      "source": [
        "***Ejemplos***"
      ],
      "metadata": {
        "id": "zrQZ0NhG1yj_"
      }
    },
    {
      "cell_type": "code",
      "source": [
        "# Obtenemos la tabla por un ID específico\n",
        "tabla = soup.find('table', attrs={'id': 'ctl00_Contenido_tblÍndices'})"
      ],
      "metadata": {
        "id": "wsqpvrOb1tZa"
      },
      "execution_count": null,
      "outputs": []
    },
    {
      "cell_type": "code",
      "source": [
        "url_page = 'https://www.lifeder.com/cientificos-famosos/'\n",
        "page = requests.get(url_page).text \n",
        "soup = BeautifulSoup(page, \"lxml\")\n",
        "contenido = soup.find('div', attrs={'class': 'td-post-content'})\n",
        "items = contenido.find_all('a')\n",
        "for item in items:\n",
        "    print(item['href'])"
      ],
      "metadata": {
        "colab": {
          "base_uri": "https://localhost:8080/"
        },
        "id": "9GLgpECR1806",
        "outputId": "1f31819b-0863-499b-fab9-79faef226b4c"
      },
      "execution_count": null,
      "outputs": [
        {
          "output_type": "stream",
          "name": "stdout",
          "text": [
            "https://www.lifeder.com/personajes-historicos/\n",
            "https://www.lifeder.com/sol/\n",
            "https://www.lifeder.com/pasos-metodo-cientifico/\n",
            "https://www.lifeder.com/plantas/\n",
            "https://www.lifeder.com/sistema-nervioso/\n",
            "https://www.lifeder.com/adn/\n",
            "https://www.lifeder.com/efecto-invernadero/\n",
            "https://www.lifeder.com/caracteristicas-literatura/\n",
            "https://www.lifeder.com/condicionamiento-clasico/\n",
            "https://www.lifeder.com/cientificos-famosos/\n",
            "#\n"
          ]
        }
      ]
    }
  ]
}